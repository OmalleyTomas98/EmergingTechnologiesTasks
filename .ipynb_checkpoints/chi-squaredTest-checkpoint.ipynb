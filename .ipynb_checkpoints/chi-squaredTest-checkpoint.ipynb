{
 "cells": [
  {
   "cell_type": "markdown",
   "metadata": {},
   "source": [
    "# Galway Mayo Institute of Technology\n",
    "\n",
    "| Header | Description |\n",
    "| --- | --- |\n",
    "| `Author` | Tomas O'Malley (G00361128)@gmit.ie |\n",
    "| `Course` | Software Development GA_KSOAG_H08 Y4  |\n",
    "| `Module` | Emerging Technologies   |\n",
    "| `Program` | Chi-squared Test |\n",
    "| `Langauge` | Python |\n",
    "| `Weighting` | 100% |\n",
    "| `Year of Study` | 4 |\n",
    "\n",
    "\n",
    "# Problem Sheet\n",
    "The Chi-squared test for independence is a statistical\n",
    "hypothesis test like a t-test. It is used to analyse whether two categorical variables\n",
    "are independent. The Wikipedia article gives the table below as an example [4],\n",
    "stating the Chi-squared value based on it is approximately 24.6. Use scipy.stats\n",
    "to verify this value and calculate the associated p value. You should include a short\n",
    "note with references justifying your analysis in a markdown cell.\n",
    "\n",
    "\n",
    "\n",
    "\n",
    "\n",
    "# Solution \n",
    "\n",
    "def \n"
   ]
  },
  {
   "cell_type": "code",
   "execution_count": null,
   "metadata": {},
   "outputs": [],
   "source": []
  }
 ],
 "metadata": {
  "kernelspec": {
   "display_name": "Python 3",
   "language": "python",
   "name": "python3"
  },
  "language_info": {
   "codemirror_mode": {
    "name": "ipython",
    "version": 3
   },
   "file_extension": ".py",
   "mimetype": "text/x-python",
   "name": "python",
   "nbconvert_exporter": "python",
   "pygments_lexer": "ipython3",
   "version": "3.8.3"
  }
 },
 "nbformat": 4,
 "nbformat_minor": 4
}
