{
 "cells": [
  {
   "cell_type": "markdown",
   "metadata": {},
   "source": [
    "# Galway Mayo Institute of Technology\n",
    "\n",
    "| Header | Description |\n",
    "| --- | --- |\n",
    "| `Author` | Tomas O'Malley (G00361128)@gmit.ie |\n",
    "| `Course` | Software Development GA_KSOAG_H08 Y4  |\n",
    "| `Module` | Emerging Technologies   |\n",
    "| `Task No.` | 1   |\n",
    "| `Program` | Square Root |\n",
    "| `Langauge` | Python |\n",
    "| `Weighting` | 50% |\n",
    "| `Year of Study` | 4 |\n",
    "\n",
    "\n",
    "# Problem Sheet\n",
    "\n",
    "\n",
    "\n",
    "\n",
    "Write a Python function called sqrt2 that calculates and\n",
    "prints to the screen the square root of 2 to 100 decimal places. Your code should\n",
    "not depend on any module from the standard library1 or otherwise. You should\n",
    "research the task first and include references and a description of your algorithm.\n",
    "\n",
    "\n",
    "\n",
    "\n",
    "# Background\n",
    "A square root of a number is a value that, when multiplied by itself, gives the number. Example: 4 × 4 = 16,\n",
    "    An approach used to calcualte the square root is Newtons method . \n",
    "    \n",
    "\n",
    "    \n",
    "\n",
    "# Description  \n",
    "Newton's method for solving equations is another numerical method for solving an equation f(x)=0.\n",
    "It is based on the geometry of a curve, using the tangent lines to a curve. As such, it requires calculus,\n",
    "in particular differentiation. Roughly, the idea of Newton's method is as follows.\n",
    "\n",
    "\n",
    "\n",
    "# Solution \n",
    "z -= (z*z - x) / (2*z)\n",
    " - Above is a newtons method used to retreive the square root used in the method sqrt2 found underneath.\n",
    "\n",
    "\n",
    "\n",
    "    "
   ]
  },
  {
   "cell_type": "code",
   "execution_count": 1,
   "metadata": {},
   "outputs": [],
   "source": [
    "# import math class \n",
    "import math "
   ]
  },
  {
   "cell_type": "code",
   "execution_count": 2,
   "metadata": {},
   "outputs": [],
   "source": [
    "# Part  1 method Defination from task spec named \"sqrt2\"\n",
    "def sqrt2(x):\n",
    "   \n",
    "    # Part 2 Find the guess for the square root of z \n",
    "    z = x / 2\n",
    "    #Part 3 loop over \n",
    "    while abs(x -(z * z)) > 0.0001:\n",
    "     # Part 4 calculate a better guess for the square root of number input \n",
    "        z -= (z*z - x) / (2*z)\n",
    "    # Part 5 Return the approximate square root of 4 \n",
    "    return print(\"%.100f\" % z)"
   ]
  },
  {
   "cell_type": "code",
   "execution_count": 3,
   "metadata": {},
   "outputs": [
    {
     "name": "stdout",
     "output_type": "stream",
     "text": [
      "1.4142156862745098866440685014822520315647125244140625000000000000000000000000000000000000000000000000\n"
     ]
    }
   ],
   "source": [
    "# Testing of sqrt2 function using the parameter integer 2\n",
    "sqrt2(2);\n",
    "    \n",
    "    "
   ]
  },
  {
   "cell_type": "markdown",
   "metadata": {},
   "source": [
    "***\n",
    "### END"
   ]
  },
  {
   "cell_type": "markdown",
   "metadata": {},
   "source": [
    "# References \n",
    "\n",
    "\n",
    "http://amsi.org.au/ESA_Senior_Years/SeniorTopic3/3j/3j_2content_2.html#:~:text=Newton's%20method%20for%20solving%20equations,Newton's%20method%20is%20as%20follows.\n",
    "\n"
   ]
  }
 ],
 "metadata": {
  "kernelspec": {
   "display_name": "Python 3",
   "language": "python",
   "name": "python3"
  },
  "language_info": {
   "codemirror_mode": {
    "name": "ipython",
    "version": 3
   },
   "file_extension": ".py",
   "mimetype": "text/x-python",
   "name": "python",
   "nbconvert_exporter": "python",
   "pygments_lexer": "ipython3",
   "version": "3.8.5"
  }
 },
 "nbformat": 4,
 "nbformat_minor": 4
}
