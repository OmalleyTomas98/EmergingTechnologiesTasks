{
 "cells": [
  {
   "cell_type": "markdown",
   "metadata": {},
   "source": [
    "# Galway Mayo Institute of Technology\n",
    "\n",
    "| Header | Description |\n",
    "| --- | --- |\n",
    "| `Author` | Tomas O'Malley (G00361128)@gmit.ie |\n",
    "| `Course` | Software Development GA_KSOAG_H08 Y4  |\n",
    "| `Module` | Emerging Technologies   |\n",
    "| `Program` | Square Root |\n",
    "| `Langauge` | Python |\n",
    "| `Weighting` | 100% |\n",
    "| `Year of Study` | 4 |\n",
    "\n",
    "\n",
    "# Problem Sheet\n",
    "\n",
    "\n",
    "\n",
    "\n",
    "Write a Python function called sqrt2 that calculates and\n",
    "prints to the screen the square root of 2 to 100 decimal places. Your code should\n",
    "not depend on any module from the standard library1 or otherwise. You should\n",
    "research the task first and include references and a description of your algorithm.\n",
    "\n",
    "\n",
    "\n",
    "\n",
    "\n",
    "# Solution \n",
    "\n",
    "def squareRoot(n):\n",
    "    x=int(n)\n",
    "    y=int(1)\n",
    "    \n",
    "    e=0.100\n",
    "    while(x-y > e):\n",
    "        x = (x+y)\n",
    "        y=n \n",
    "        \n",
    "        return int(x)\n",
    "    \n",
    "    n = 2 * 10 ** 200\n",
    "    \n",
    "    print(f'{squareRoot(n)//10**100}\n",
    "          {squareRoot(n) % 10**100:100d}')\n",
    "    "
   ]
  },
  {
   "cell_type": "code",
   "execution_count": null,
   "metadata": {},
   "outputs": [],
   "source": []
  },
  {
   "cell_type": "code",
   "execution_count": null,
   "metadata": {},
   "outputs": [],
   "source": []
  },
  {
   "cell_type": "markdown",
   "metadata": {},
   "source": []
  },
  {
   "cell_type": "code",
   "execution_count": null,
   "metadata": {},
   "outputs": [],
   "source": []
  },
  {
   "cell_type": "code",
   "execution_count": null,
   "metadata": {},
   "outputs": [],
   "source": []
  }
 ],
 "metadata": {
  "kernelspec": {
   "display_name": "Python 3",
   "language": "python",
   "name": "python3"
  },
  "language_info": {
   "codemirror_mode": {
    "name": "ipython",
    "version": 3
   },
   "file_extension": ".py",
   "mimetype": "text/x-python",
   "name": "python",
   "nbconvert_exporter": "python",
   "pygments_lexer": "ipython3",
   "version": "3.8.3"
  }
 },
 "nbformat": 4,
 "nbformat_minor": 4
}
