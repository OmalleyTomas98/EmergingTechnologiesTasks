{
 "cells": [
  {
   "cell_type": "markdown",
   "metadata": {},
   "source": [
    "# Galway Mayo Institute of Technology\n",
    "\n",
    "| Header | Description |\n",
    "| --- | --- |\n",
    "| `Author` | Tomas O'Malley (G00361128)@gmit.ie |\n",
    "| `Course` | Software Development GA_KSOAG_H08 Y4  |\n",
    "| `Module` | Emerging Technologies   |\n",
    "| `Task No ` | 4 |\n",
    "| `Program` | Kmeans Clustering |\n",
    "| `Langauge` | Python |\n",
    "| `Weighting` | 50% |\n",
    "| `Year of Study` | 4 |\n",
    "\n",
    "\n",
    "# Problem Sheet\n",
    "\n",
    "\n",
    "Use scikit-learn to apply k-means clustering to\n",
    "Fisher’s famous Iris data set. You will easily obtain a copy of the data set online. Explain in a Markdown cell how your code works and how accurate it might\n",
    "be, and then explain how your model could be used to make predictions of species\n",
    "of iris.\n",
    "\n",
    "\n",
    "# Background\n",
    "\n",
    "\n",
    " - What is Fisher’s famous Iris data set \n",
    "\n",
    "    \n",
    "\n",
    "# Description  \n",
    "\n",
    "\n",
    "\n",
    "# Solution \n",
    "\n"
   ]
  },
  {
   "cell_type": "code",
   "execution_count": 17,
   "metadata": {},
   "outputs": [],
   "source": [
    "# Numerical Arrays.\n",
    "import numpy as np\n",
    "\n",
    "# Machine Learning - KMeans. \n",
    "import  sklearn.cluster as skcl\n",
    "\n",
    "# Plotting\n",
    "import matplotlib.pyplot as plt "
   ]
  },
  {
   "cell_type": "code",
   "execution_count": 18,
   "metadata": {},
   "outputs": [],
   "source": [
    "# Data Set.  x,y pairs Datasets\n",
    "X = np.array([[1, 2], [1, 4], [1, 0],  [10, 2], [10, 4], [10, 0]])\n"
   ]
  },
  {
   "cell_type": "code",
   "execution_count": 22,
   "metadata": {},
   "outputs": [
    {
     "data": {
      "text/plain": [
       "(array([ 1,  1,  1, 10, 10, 10]), array([2, 4, 0, 2, 4, 0]))"
      ]
     },
     "execution_count": 22,
     "metadata": {},
     "output_type": "execute_result"
    }
   ],
   "source": [
    "xvals = X[:,0]\n",
    "yvals =X[:,1]\n",
    "xvals , yvals"
   ]
  },
  {
   "cell_type": "code",
   "execution_count": 10,
   "metadata": {},
   "outputs": [],
   "source": [
    "# Perform kmeans Fitting - returns an algorithm\n",
    "\n",
    "kmeans = skcl.KMeans(n_clusters=2, random_state=0).fit(X)\n"
   ]
  },
  {
   "cell_type": "code",
   "execution_count": 11,
   "metadata": {},
   "outputs": [
    {
     "data": {
      "text/plain": [
       "array([1, 1, 1, 0, 0, 0])"
      ]
     },
     "execution_count": 11,
     "metadata": {},
     "output_type": "execute_result"
    }
   ],
   "source": [
    "\n",
    "# See the labels of the points.\n",
    "kmeans.labels_\n"
   ]
  },
  {
   "cell_type": "code",
   "execution_count": null,
   "metadata": {},
   "outputs": [],
   "source": [
    "\n",
    "# Predict the cluster for two points \n",
    "kmeans.predict([[0, 0], [12, 3]])\n",
    "\n"
   ]
  },
  {
   "cell_type": "code",
   "execution_count": 27,
   "metadata": {},
   "outputs": [
    {
     "data": {
      "text/plain": [
       "(-2.0, 6.0)"
      ]
     },
     "execution_count": 27,
     "metadata": {},
     "output_type": "execute_result"
    },
    {
     "data": {
      "image/png": "[encoded data removed]",
      "text/plain": [
       "<Figure size 432x288 with 1 Axes>"
      ]
     },
     "metadata": {
      "needs_background": "light"
     },
     "output_type": "display_data"
    }
   ],
   "source": [
    "# Plot the data set.\n",
    "plt.plot(X[kmeans.labels_ ==0][:,0] , X[kmeans.labels_ ==1][:,1], 'gx')\n",
    "plt.plot(X[kmeans.labels_ ==1][:,0] , X[kmeans.labels_ ==1][:,1], 'rx')\n",
    "\n",
    "# Set reasonable limits\n",
    "plt.xlim([-2,14])\n",
    "plt.ylim([-2,6])"
   ]
  },
  {
   "cell_type": "code",
   "execution_count": null,
   "metadata": {},
   "outputs": [],
   "source": [
    "kmeans.cluster_centers_\n"
   ]
  },
  {
   "cell_type": "markdown",
   "metadata": {},
   "source": [
    "# References \n",
    "\n",
    "- K-means https://scikit-learn.org/stable/modules/clustering.html#k-means\n",
    "- K-means Examples https://scikit-learn.org/stable/modules/generated/sklearn.cluster.KMeans.html#sklearn.cluster.KMeans\n",
    "\n"
   ]
  },
  {
   "cell_type": "code",
   "execution_count": null,
   "metadata": {},
   "outputs": [],
   "source": []
  }
 ],
 "metadata": {
  "kernelspec": {
   "display_name": "Python 3",
   "language": "python",
   "name": "python3"
  },
  "language_info": {
   "codemirror_mode": {
    "name": "ipython",
    "version": 3
   },
   "file_extension": ".py",
   "mimetype": "text/x-python",
   "name": "python",
   "nbconvert_exporter": "python",
   "pygments_lexer": "ipython3",
   "version": "3.8.5"
  }
 },
 "nbformat": 4,
 "nbformat_minor": 4
}
